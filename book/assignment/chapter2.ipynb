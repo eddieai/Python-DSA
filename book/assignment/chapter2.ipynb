{
 "cells": [
  {
   "cell_type": "markdown",
   "metadata": {},
   "source": [
    "### q1"
   ]
  },
  {
   "cell_type": "code",
   "execution_count": 23,
   "metadata": {},
   "outputs": [
    {
     "name": "stdout",
     "output_type": "stream",
     "text": [
      "Time of l[1000] = 0.000022599997465\n",
      "Time of l[2000] = 0.000021399988327\n",
      "Time of l[3000] = 0.000021099986043\n",
      "Time of l[4000] = 0.000021400046535\n",
      "Time of l[5000] = 0.000021800049581\n",
      "Time of l[6000] = 0.000030099996366\n",
      "Time of l[7000] = 0.000021199986804\n",
      "Time of l[8000] = 0.000021199986804\n",
      "Time of l[9000] = 0.000021199986804\n"
     ]
    }
   ],
   "source": [
    "from timeit import Timer\n",
    "\n",
    "l = list(range(10000))\n",
    "list_index_timer = Timer(\"l[i]\", \"from __main__ import l, i\")\n",
    "\n",
    "for i in range(1000, 10000, 1000):\n",
    "    t = list_index_timer.timeit(number=1000)\n",
    "    print(f\"Time of l[{i}] = {t:.15f}\")"
   ]
  },
  {
   "cell_type": "markdown",
   "metadata": {},
   "source": [
    "### q2"
   ]
  },
  {
   "cell_type": "code",
   "execution_count": 26,
   "metadata": {},
   "outputs": [
    {
     "name": "stdout",
     "output_type": "stream",
     "text": [
      "Time of d.get(1000) = 0.000102799967863\n",
      "Time of d.get(2000) = 0.000100000004750\n",
      "Time of d.get(3000) = 0.000108100008219\n",
      "Time of d.get(4000) = 0.000101199955679\n",
      "Time of d.get(5000) = 0.000101800018456\n",
      "Time of d.get(6000) = 0.000100300007034\n",
      "Time of d.get(7000) = 0.000099900003988\n",
      "Time of d.get(8000) = 0.000104800041299\n",
      "Time of d.get(9000) = 0.000092600006610\n",
      "Time of d[1000]=0 = 0.000088800035883\n",
      "Time of d[2000]=0 = 0.000078800017945\n",
      "Time of d[3000]=0 = 0.000078500015661\n",
      "Time of d[4000]=0 = 0.000079300021753\n",
      "Time of d[5000]=0 = 0.000078899960499\n",
      "Time of d[6000]=0 = 0.000079400022514\n",
      "Time of d[7000]=0 = 0.000079299963545\n",
      "Time of d[8000]=0 = 0.000086200016085\n",
      "Time of d[9000]=0 = 0.000083499995526\n"
     ]
    }
   ],
   "source": [
    "d = dict(zip(list(range(10000)), list(range(10000,20000))))\n",
    "dict_get_timer = Timer(\"d.get(i)\", \"from __main__ import d, i\")\n",
    "dict_set_timer = Timer(\"d[i]=0\", \"from __main__ import d, i\")\n",
    "\n",
    "for i in range(1000, 10000, 1000):\n",
    "    t1 = dict_get_timer.timeit(number=1000)\n",
    "    print(f\"Time of d.get({i}) = {t1:.15f}\")\n",
    "\n",
    "for i in range(1000, 10000, 1000):\n",
    "    t2 = dict_set_timer.timeit(number=1000)\n",
    "    print(f\"Time of d[{i}]=0 = {t2:.15f}\")"
   ]
  },
  {
   "cell_type": "markdown",
   "metadata": {},
   "source": [
    "### q3"
   ]
  },
  {
   "cell_type": "code",
   "execution_count": 52,
   "metadata": {},
   "outputs": [
    {
     "name": "stdout",
     "output_type": "stream",
     "text": [
      "Range 10,\tTime of del l[0] = 0.000002100015990\n",
      "Range 100,\tTime of del l[0] = 0.000000699947122\n",
      "Range 1000,\tTime of del l[0] = 0.000000500003807\n",
      "Range 10000,\tTime of del l[0] = 0.000036899989937\n",
      "Range 100000,\tTime of del l[0] = 0.000372799986508\n",
      "Range 1000000,\tTime of del l[0] = 0.001658900000621\n",
      "Range 10,\tTime of del l[9] = 0.000006899994332\n",
      "Range 100,\tTime of del l[99] = 0.000001100008376\n",
      "Range 1000,\tTime of del l[999] = 0.000000900006853\n",
      "Range 10000,\tTime of del l[9999] = 0.000002600019798\n",
      "Range 100000,\tTime of del l[99999] = 0.000002500019036\n",
      "Range 1000000,\tTime of del l[999999] = 0.000004099973012\n",
      "Range 10,\tTime of del d[0] = 0.000003999972250\n",
      "Range 100,\tTime of del d[0] = 0.000000399944838\n",
      "Range 1000,\tTime of del d[0] = 0.000000400003046\n",
      "Range 10000,\tTime of del d[0] = 0.000001400010660\n",
      "Range 100000,\tTime of del d[0] = 0.000002300017513\n",
      "Range 1000000,\tTime of del d[0] = 0.000002299959306\n",
      "Range 10,\tTime of del d[9] = 0.000002400018275\n",
      "Range 100,\tTime of del d[99] = 0.000000500003807\n",
      "Range 1000,\tTime of del d[999] = 0.000000700005330\n",
      "Range 10000,\tTime of del d[9999] = 0.000001300009899\n",
      "Range 100000,\tTime of del d[99999] = 0.000003500026651\n",
      "Range 1000000,\tTime of del d[999999] = 0.000008800008800\n"
     ]
    }
   ],
   "source": [
    "list_del_first_timer = Timer(\"del l[0]\", \"from __main__ import l, i\")\n",
    "list_del_last_timer = Timer(\"del l[10**i-1]\", \"from __main__ import l, i\")\n",
    "dict_del_first_timer = Timer(\"del d[0]\", \"from __main__ import d, i\")\n",
    "dict_del_last_timer = Timer(\"del d[10**i-1]\", \"from __main__ import d, i\")\n",
    "\n",
    "for i in range(1, 7):\n",
    "    l = list(range(10**i))\n",
    "    t1 = list_del_first_timer.timeit(number=1)\n",
    "    print(f\"Range {10**i},\\tTime of del l[0] = {t1:.15f}\")\n",
    "for i in range(1, 7):\n",
    "    l = list(range(10**i))\n",
    "    t2 = list_del_last_timer.timeit(number=1)\n",
    "    print(f\"Range {10**i},\\tTime of del l[{10**i-1}] = {t2:.15f}\")\n",
    "\n",
    "for i in range(1, 7):\n",
    "    d = dict(zip(list(range(10**i)), list(range(10**i))))\n",
    "    t3 = dict_del_first_timer.timeit(number=1)\n",
    "    print(f\"Range {10**i},\\tTime of del d[0] = {t3:.15f}\")\n",
    "for i in range(1, 7):\n",
    "    d = dict(zip(list(range(10**i)), list(range(10**i))))\n",
    "    t4 = dict_del_last_timer.timeit(number=1)\n",
    "    print(f\"Range {10**i},\\tTime of del d[{10**i-1}] = {t4:.15f}\")"
   ]
  }
 ],
 "metadata": {
  "kernelspec": {
   "display_name": "base",
   "language": "python",
   "name": "python3"
  },
  "language_info": {
   "codemirror_mode": {
    "name": "ipython",
    "version": 3
   },
   "file_extension": ".py",
   "mimetype": "text/x-python",
   "name": "python",
   "nbconvert_exporter": "python",
   "pygments_lexer": "ipython3",
   "version": "3.11.5"
  }
 },
 "nbformat": 4,
 "nbformat_minor": 2
}
