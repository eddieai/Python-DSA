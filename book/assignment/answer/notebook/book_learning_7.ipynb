{
 "cells": [
  {
   "cell_type": "markdown",
   "metadata": {},
   "source": [
    "# 《Problem Solving with Algorithms and Data Structures using Python》 的学习笔记和课后作业答案（七. Graphs and Graph Algorithms）\n",
    "\n",
    "```\n",
    "对应本书第七章。\n",
    "```"
   ]
  },
  {
   "cell_type": "markdown",
   "metadata": {},
   "source": [
    "## 目录\n",
    "\n",
    "* [7.Graphs and Graph Algorithms](#7.Graphs-and-Graph-Algorithms)\n",
    "    + [笔记](#笔记)\n",
    "        + [基本术语和定义](#基本术语和定义)\n",
    "        + [邻接矩阵](#邻接矩阵)\n",
    "        + [广度优先遍历](#广度优先遍历)\n",
    "        + [骑士旅行问题](#骑士旅行问题)\n",
    "        + [二叉查找树](#二叉查找树)\n",
    "        + [平衡二叉查找树](#平衡二叉查找树)\n",
    "    + [讨论作业](#讨论作业)"
   ]
  },
  {
   "cell_type": "markdown",
   "metadata": {
    "collapsed": true
   },
   "source": [
    "## 基本术语和定义\n",
    "\n",
    "**顶点（Vertex or Node）**：构成图的最基本的点，类比地图中一个个城市。\n",
    "\n",
    "**边（Edge or Arc）**：连接两个点，可以是有向的，也可以是无向的，类比一个城市到另一个城市的路线。\n",
    "\n",
    "**权重（Weight）**：可以理解成是边的距离，可以是一个城市到一个城市的距离，或者花费时间。\n",
    "\n",
    "![](http://interactivepython.org/courselib/static/pythonds/_images/digraph.png)\n",
    "\n",
    "上面这幅图，可以用如下方法表示：\n",
    "\n",
    "$V = \\left\\{ V0,V1,V2,V3,V4,V5 \\right\\}$\n",
    "\n",
    "$E = \\left\\{ \\begin{array}{l}(v0,v1,5), (v1,v2,4), (v2,v3,9), (v3,v4,7), (v4,v0,1), \\\\\n",
    "             (v0,v5,2),(v5,v4,8),(v3,v5,3),(v5,v2,1)\n",
    "             \\end{array} \\right\\}$\n"
   ]
  },
  {
   "cell_type": "markdown",
   "metadata": {},
   "source": [
    "## 邻接矩阵\n",
    "\n",
    "![](https://github.com/applenob/algorithm_note/raw/master/res/min_heap.png)\n",
    "\n",
    "**邻接矩阵（Adjacency Matrix）**是最常用的拿来存储图的顶点和边的信息的结构。\n",
    "\n",
    "但一般邻接矩阵比较稀疏，直接用二维数组去存浪费空间，于是有了Adjacency List。\n",
    "\n",
    "![](http://interactivepython.org/courselib/static/pythonds/_images/adjlist.png)\n"
   ]
  },
  {
   "cell_type": "markdown",
   "metadata": {},
   "source": [
    "## 广度优先遍历\n",
    "\n",
    "图的广度优先遍历（），类似于树的层次遍历，借助一个队列可以轻松实现。\n",
    "\n",
    "不同的地方在于，图需要标记某个结点是否已经遍历过，下面通过设置颜色表示：\n",
    "\n",
    "```python\n",
    "from pythonds.graphs import Graph, Vertex\n",
    "from pythonds.basic import Queue\n",
    "\n",
    "def bfs(g,start):\n",
    "  start.setDistance(0)\n",
    "  start.setPred(None)\n",
    "  vertQueue = Queue()\n",
    "  vertQueue.enqueue(start)\n",
    "  while (vertQueue.size() > 0):\n",
    "    currentVert = vertQueue.dequeue()\n",
    "    for nbr in currentVert.getConnections():\n",
    "      # 白色代表没有遍历过的\n",
    "      if (nbr.getColor() == 'white'):\n",
    "        # 灰色代表已经在队列\n",
    "        nbr.setColor('gray')\n",
    "        nbr.setDistance(currentVert.getDistance() + 1)\n",
    "        nbr.setPred(currentVert)\n",
    "        vertQueue.enqueue(nbr)\n",
    "    # 黑色代表已经遍历过\n",
    "    currentVert.setColor('black')\n",
    "```"
   ]
  },
  {
   "cell_type": "markdown",
   "metadata": {},
   "source": [
    "## 骑士旅行问题\n",
    "\n",
    "骑士旅行问题（The Knight’s Tour Problem）：\n",
    "\n",
    "在国际象棋中8×8的格子中，有一个骑士（马，走日字），试寻找一种方法，让骑士可以遍历所有格子，并不重复。\n",
    "\n"
   ]
  },
  {
   "cell_type": "code",
   "execution_count": null,
   "metadata": {
    "collapsed": true
   },
   "outputs": [],
   "source": []
  },
  {
   "cell_type": "code",
   "execution_count": null,
   "metadata": {
    "collapsed": true
   },
   "outputs": [],
   "source": []
  }
 ],
 "metadata": {
  "anaconda-cloud": {},
  "kernelspec": {
   "display_name": "Python [default]",
   "language": "python",
   "name": "python2"
  },
  "language_info": {
   "codemirror_mode": {
    "name": "ipython",
    "version": 2
   },
   "file_extension": ".py",
   "mimetype": "text/x-python",
   "name": "python",
   "nbconvert_exporter": "python",
   "pygments_lexer": "ipython2",
   "version": "2.7.12"
  }
 },
 "nbformat": 4,
 "nbformat_minor": 1
}
