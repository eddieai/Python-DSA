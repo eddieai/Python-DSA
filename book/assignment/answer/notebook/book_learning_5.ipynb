{
 "cells": [
  {
   "cell_type": "markdown",
   "metadata": {},
   "source": [
    "# 《Problem Solving with Algorithms and Data Structures using Python》 的学习笔记和课后作业答案（五. Sorting and Searching）\n",
    "\n",
    "```\n",
    "对应本书第五章。\n",
    "```"
   ]
  },
  {
   "cell_type": "markdown",
   "metadata": {},
   "source": [
    "## 目录\n",
    "\n",
    "* [5.Sorting and Searching](#5.Sorting-and-Searching)\n",
    "    + [笔记](#笔记)\n",
    "        + [二分查找](#二分查找)\n",
    "        + [用Hash实现一个Map抽象数据类型](#用Hash实现一个Map抽象数据类型)\n",
    "        + [冒泡排序](#冒泡排序)\n",
    "        + [选择排序](#选择排序)\n",
    "        + [插入排序](#插入排序)\n",
    "        + [希尔排序](#希尔排序)\n",
    "        + [合并排序](#合并排序)\n",
    "        + [快速排序](#快速排序)\n",
    "    + [作业](#作业)\n",
    "        + [q1](#q1)\n",
    "        + [q2](#q2)\n",
    "        + [q4](#q4)\n",
    "        + [q9](#q9)"
   ]
  },
  {
   "cell_type": "markdown",
   "metadata": {},
   "source": [
    "# 5.Sorting and Searching\n",
    "\n",
    "[原目录](http://interactivepython.org/courselib/static/pythonds/SortSearch/toctree.html)\n",
    "\n",
    "## 笔记\n",
    "\n",
    "这章开始进入算法部分，讲解排序和查找。\n",
    "\n",
    "### 二分查找\n"
   ]
  },
  {
   "cell_type": "code",
   "execution_count": 1,
   "metadata": {
    "collapsed": false
   },
   "outputs": [
    {
     "name": "stdout",
     "output_type": "stream",
     "text": [
      "False\n",
      "True\n"
     ]
    }
   ],
   "source": [
    "from __future__ import print_function\n",
    "\n",
    "def binarySearch(alist, item):\n",
    "    first = 0\n",
    "    last = len(alist)-1\n",
    "    found = False\n",
    "\n",
    "    while first<=last and not found:\n",
    "        midpoint = (first + last)//2\n",
    "        if alist[midpoint] == item:\n",
    "            found = True\n",
    "        else:\n",
    "            if item < alist[midpoint]:\n",
    "                last = midpoint-1\n",
    "            else:\n",
    "                first = midpoint+1\n",
    "\n",
    "    return found\n",
    "\n",
    "testlist = [0, 1, 2, 8, 13, 17, 19, 32, 42,]\n",
    "print(binarySearch(testlist, 3))\n",
    "print(binarySearch(testlist, 13))"
   ]
  },
  {
   "cell_type": "markdown",
   "metadata": {},
   "source": [
    "### 用Hash实现一个Map抽象数据类型\n",
    "\n",
    "Hash碰到collision的时候一般有两种解决方法：\n",
    "\n",
    "- 开放寻址（open addressing）：寻找下一个空的slot；\n",
    "- 链接法（Chaining）：允许一个hash值对应的slot中可以存放多个元素。\n",
    "\n",
    "![](https://github.com/applenob/algorithm_note/raw/master/res/map.png)\n",
    "\n",
    "使用Hash的Map，查找的理想的时间复杂度是$O(1)$。\n",
    "\n",
    "实际上，对于占用度是$λ$的HashTable，开放寻址的线性探测的比较次数是：$\\frac{1}{2}(1+\\frac{1}{1−λ})$；链接法的比较次数是：$\\frac{1}{2}(1+(\\frac{1}{1−λ})^2)$。"
   ]
  },
  {
   "cell_type": "code",
   "execution_count": 5,
   "metadata": {
    "collapsed": true
   },
   "outputs": [],
   "source": [
    "class HashTable:\n",
    "    \n",
    "    def __init__(self):\n",
    "        self.size = 11\n",
    "        self.slots = [None] * self.size\n",
    "        self.data = [None] * self.size\n",
    "        \n",
    "    def put(self,key,data):\n",
    "        # 计算key的hash值\n",
    "        hashvalue = self.hashfunction(key,len(self.slots))\n",
    "\n",
    "        if self.slots[hashvalue] == None:\n",
    "            self.slots[hashvalue] = key\n",
    "            self.data[hashvalue] = data\n",
    "        else:\n",
    "            if self.slots[hashvalue] == key:\n",
    "                self.data[hashvalue] = data  #replace\n",
    "            else:\n",
    "                # 碰到collision， rehash\n",
    "                nextslot = self.rehash(hashvalue,len(self.slots))\n",
    "                while self.slots[nextslot] != None and self.slots[nextslot] != key:\n",
    "                    nextslot = self.rehash(nextslot,len(self.slots))\n",
    "\n",
    "                if self.slots[nextslot] == None:\n",
    "                    self.slots[nextslot]=key\n",
    "                    self.data[nextslot]=data\n",
    "                else:\n",
    "                    self.data[nextslot] = data #replace\n",
    "\n",
    "    def hashfunction(self,key,size):\n",
    "        # 根据key计算hash值\n",
    "        return key%size\n",
    "\n",
    "    def rehash(self,oldhash,size):\n",
    "        return (oldhash+1)%size\n",
    "\n",
    "    def get(self,key):\n",
    "        startslot = self.hashfunction(key,len(self.slots))\n",
    "\n",
    "        data = None\n",
    "        stop = False\n",
    "        found = False\n",
    "        position = startslot\n",
    "        while self.slots[position] != None and not found and not stop:\n",
    "            if self.slots[position] == key:\n",
    "                found = True\n",
    "                data = self.data[position]\n",
    "            else:\n",
    "                position=self.rehash(position,len(self.slots))\n",
    "                if position == startslot:\n",
    "                    stop = True\n",
    "        return data\n",
    "\n",
    "    def __getitem__(self,key):\n",
    "        return self.get(key)\n",
    "\n",
    "    def __setitem__(self,key,data):\n",
    "        self.put(key,data)"
   ]
  },
  {
   "cell_type": "code",
   "execution_count": 6,
   "metadata": {
    "collapsed": false
   },
   "outputs": [
    {
     "data": {
      "text/plain": [
       "[77, 44, 55, 20, 26, 93, 17, None, None, 31, 54]"
      ]
     },
     "execution_count": 6,
     "metadata": {},
     "output_type": "execute_result"
    }
   ],
   "source": [
    "H=HashTable()\n",
    "H[54]=\"cat\"\n",
    "H[26]=\"dog\"\n",
    "H[93]=\"lion\"\n",
    "H[17]=\"tiger\"\n",
    "H[77]=\"bird\"\n",
    "H[31]=\"cow\"\n",
    "H[44]=\"goat\"\n",
    "H[55]=\"pig\"\n",
    "H[20]=\"chicken\"\n",
    "H.slots"
   ]
  },
  {
   "cell_type": "code",
   "execution_count": 7,
   "metadata": {
    "collapsed": false
   },
   "outputs": [
    {
     "data": {
      "text/plain": [
       "['bird',\n",
       " 'goat',\n",
       " 'pig',\n",
       " 'chicken',\n",
       " 'dog',\n",
       " 'lion',\n",
       " 'tiger',\n",
       " None,\n",
       " None,\n",
       " 'cow',\n",
       " 'cat']"
      ]
     },
     "execution_count": 7,
     "metadata": {},
     "output_type": "execute_result"
    }
   ],
   "source": [
    "H.data"
   ]
  },
  {
   "cell_type": "markdown",
   "metadata": {},
   "source": [
    "### 冒泡排序\n",
    "\n",
    "默认从小到大排序。 两两比较，逆序则两两互换。\n",
    "\n",
    "时间复杂度：$O(n^2)$"
   ]
  },
  {
   "cell_type": "code",
   "execution_count": 8,
   "metadata": {
    "collapsed": false
   },
   "outputs": [
    {
     "name": "stdout",
     "output_type": "stream",
     "text": [
      "[17, 20, 26, 31, 44, 54, 55, 77, 93]\n"
     ]
    }
   ],
   "source": [
    "def bubbleSort(alist):\n",
    "    for passnum in range(len(alist)-1,0,-1):\n",
    "        for i in range(passnum):\n",
    "            # 逆序\n",
    "            if alist[i]>alist[i+1]:\n",
    "                # 互换\n",
    "                temp = alist[i]\n",
    "                alist[i] = alist[i+1]\n",
    "                alist[i+1] = temp\n",
    "\n",
    "alist = [54,26,93,17,77,31,44,55,20]\n",
    "bubbleSort(alist)\n",
    "print(alist)"
   ]
  },
  {
   "cell_type": "markdown",
   "metadata": {},
   "source": [
    "### 选择排序\n",
    "\n",
    "每次找到第k大的数，移动到倒数第k位。\n",
    "\n",
    "时间复杂度：$O(n^2)$"
   ]
  },
  {
   "cell_type": "code",
   "execution_count": 9,
   "metadata": {
    "collapsed": false
   },
   "outputs": [
    {
     "name": "stdout",
     "output_type": "stream",
     "text": [
      "[17, 20, 26, 31, 44, 54, 55, 77, 93]\n"
     ]
    }
   ],
   "source": [
    "def selectionSort(alist):\n",
    "    for fillslot in range(len(alist)-1,0,-1):\n",
    "        positionOfMax=0\n",
    "        for location in range(1,fillslot+1):\n",
    "            if alist[location]>alist[positionOfMax]:\n",
    "                positionOfMax = location\n",
    "\n",
    "        temp = alist[fillslot]\n",
    "        alist[fillslot] = alist[positionOfMax]\n",
    "        alist[positionOfMax] = temp\n",
    "\n",
    "alist = [54,26,93,17,77,31,44,55,20]\n",
    "selectionSort(alist)\n",
    "print(alist)"
   ]
  },
  {
   "cell_type": "markdown",
   "metadata": {},
   "source": [
    "### 插入排序\n",
    "\n",
    "递归思想，前面的子序列先排完序，再**插入**下一个元素排序。\n",
    "\n",
    "时间复杂度：$O(n^2)$"
   ]
  },
  {
   "cell_type": "code",
   "execution_count": 11,
   "metadata": {
    "collapsed": false
   },
   "outputs": [
    {
     "name": "stdout",
     "output_type": "stream",
     "text": [
      "[17, 20, 26, 31, 44, 54, 55, 77, 93]\n"
     ]
    }
   ],
   "source": [
    "def insertionSort(alist):\n",
    "    for index in range(1,len(alist)):\n",
    "\n",
    "        currentvalue = alist[index]\n",
    "        position = index\n",
    "\n",
    "        while position>0 and alist[position-1]>currentvalue:\n",
    "            # 大于插入元素的元素后移\n",
    "            alist[position]=alist[position-1]\n",
    "            # 插入元素前移\n",
    "            position = position-1\n",
    "\n",
    "        alist[position]=currentvalue\n",
    "\n",
    "alist = [54,26,93,17,77,31,44,55,20]\n",
    "insertionSort(alist)\n",
    "print(alist)"
   ]
  },
  {
   "cell_type": "markdown",
   "metadata": {},
   "source": [
    "### 希尔排序\n",
    "\n",
    "使用由大到小的gap，将将list分割成几个sublist，对每个sublist做插入排序。\n",
    "\n",
    "![](https://github.com/applenob/algorithm_note/raw/master/res/Shell-Sort.png)\n",
    "\n",
    "时间复杂度：介于$O(n)$和$O(n^2)$之间。"
   ]
  },
  {
   "cell_type": "code",
   "execution_count": 12,
   "metadata": {
    "collapsed": false
   },
   "outputs": [
    {
     "name": "stdout",
     "output_type": "stream",
     "text": [
      "After increments of size 4 The list is [20, 26, 44, 17, 54, 31, 93, 55, 77]\n",
      "After increments of size 2 The list is [20, 17, 44, 26, 54, 31, 77, 55, 93]\n",
      "After increments of size 1 The list is [17, 20, 26, 31, 44, 54, 55, 77, 93]\n",
      "[17, 20, 26, 31, 44, 54, 55, 77, 93]\n"
     ]
    }
   ],
   "source": [
    "def shellSort(alist):\n",
    "    # gap为len的一半， gap等于sublistcount\n",
    "    sublistcount = len(alist)//2\n",
    "    while sublistcount > 0:\n",
    "\n",
    "        for startposition in range(sublistcount):\n",
    "            gapInsertionSort(alist,startposition,sublistcount)\n",
    "\n",
    "        print(\"After increments of size\",sublistcount,\n",
    "                                   \"The list is\",alist)\n",
    "\n",
    "        # gap再减半\n",
    "        sublistcount = sublistcount // 2\n",
    "\n",
    "def gapInsertionSort(alist,start,gap):\n",
    "    # 对sublist进行插入排序\n",
    "    for i in range(start+gap,len(alist),gap):\n",
    "\n",
    "        currentvalue = alist[i]\n",
    "        position = i\n",
    "\n",
    "        while position>=gap and alist[position-gap]>currentvalue:\n",
    "            alist[position]=alist[position-gap]\n",
    "            position = position-gap\n",
    "\n",
    "        alist[position]=currentvalue\n",
    "        \n",
    "alist = [54,26,93,17,77,31,44,55,20]\n",
    "shellSort(alist)\n",
    "print(alist)\n"
   ]
  },
  {
   "cell_type": "markdown",
   "metadata": {
    "collapsed": true
   },
   "source": [
    "### 合并排序\n",
    "\n",
    "递归地将一个list拆分成两个sublist，然后merge。\n",
    "\n",
    "时间复杂度是：$O(nlogn)$。"
   ]
  },
  {
   "cell_type": "code",
   "execution_count": 3,
   "metadata": {
    "collapsed": false
   },
   "outputs": [
    {
     "name": "stdout",
     "output_type": "stream",
     "text": [
      "Splitting  [54, 26, 93, 17, 77, 31, 44, 55, 20]\n",
      "Splitting  [54, 26, 93, 17]\n",
      "Splitting  [54, 26]\n",
      "Splitting  [54]\n",
      "Merging  [54]\n",
      "Splitting  [26]\n",
      "Merging  [26]\n",
      "Merging  [26, 54]\n",
      "Splitting  [93, 17]\n",
      "Splitting  [93]\n",
      "Merging  [93]\n",
      "Splitting  [17]\n",
      "Merging  [17]\n",
      "Merging  [17, 93]\n",
      "Merging  [17, 26, 54, 93]\n",
      "Splitting  [77, 31, 44, 55, 20]\n",
      "Splitting  [77, 31]\n",
      "Splitting  [77]\n",
      "Merging  [77]\n",
      "Splitting  [31]\n",
      "Merging  [31]\n",
      "Merging  [31, 77]\n",
      "Splitting  [44, 55, 20]\n",
      "Splitting  [44]\n",
      "Merging  [44]\n",
      "Splitting  [55, 20]\n",
      "Splitting  [55]\n",
      "Merging  [55]\n",
      "Splitting  [20]\n",
      "Merging  [20]\n",
      "Merging  [20, 55]\n",
      "Merging  [20, 44, 55]\n",
      "Merging  [20, 31, 44, 55, 77]\n",
      "Merging  [17, 20, 26, 31, 44, 54, 55, 77, 93]\n",
      "[17, 20, 26, 31, 44, 54, 55, 77, 93]\n"
     ]
    }
   ],
   "source": [
    "def mergeSort(alist):\n",
    "    print(\"Splitting \",alist)\n",
    "    if len(alist)>1:\n",
    "        # 拆分成两个子序列\n",
    "        mid = len(alist)//2\n",
    "        # 注意：使用切片的方式空间复杂度较高\n",
    "        lefthalf = alist[:mid]\n",
    "        righthalf = alist[mid:]\n",
    "\n",
    "        mergeSort(lefthalf)\n",
    "        mergeSort(righthalf)\n",
    "\n",
    "        # 执行merge\n",
    "        i=0\n",
    "        j=0\n",
    "        k=0\n",
    "        while i < len(lefthalf) and j < len(righthalf):\n",
    "            if lefthalf[i] < righthalf[j]:\n",
    "                alist[k]=lefthalf[i]\n",
    "                i=i+1\n",
    "            else:\n",
    "                alist[k]=righthalf[j]\n",
    "                j=j+1\n",
    "            k=k+1\n",
    "\n",
    "        while i < len(lefthalf):\n",
    "            alist[k]=lefthalf[i]\n",
    "            i=i+1\n",
    "            k=k+1\n",
    "\n",
    "        while j < len(righthalf):\n",
    "            alist[k]=righthalf[j]\n",
    "            j=j+1\n",
    "            k=k+1\n",
    "    print(\"Merging \",alist)\n",
    "\n",
    "alist = [54,26,93,17,77,31,44,55,20]\n",
    "mergeSort(alist)\n",
    "print(alist)"
   ]
  },
  {
   "cell_type": "markdown",
   "metadata": {},
   "source": [
    "### 快速排序\n",
    "\n",
    "递归地执行：小的元素移到pivot左边，大的元素移到pivot的右边。\n",
    "\n",
    "类比军训时，教官会找出一个同学说，以这位同学为基准，矮的站右边，高的站右边。\n",
    "\n",
    "一般在实现的时候，上面提到的这步使用**双指针**的技巧实现。\n",
    "\n",
    "时间复杂度是：$O(nlogn)$。"
   ]
  },
  {
   "cell_type": "code",
   "execution_count": null,
   "metadata": {
    "collapsed": true
   },
   "outputs": [],
   "source": [
    "def quickSort(alist):\n",
    "    quickSortHelper(alist,0,len(alist)-1)\n",
    "\n",
    "def quickSortHelper(alist,first,last):\n",
    "    if first<last:\n",
    "\n",
    "        # 执行军训排序部分\n",
    "        splitpoint = partition(alist,first,last)\n",
    "        # 递归地对子序列进行排序\n",
    "        quickSortHelper(alist,first,splitpoint-1)\n",
    "        quickSortHelper(alist,splitpoint+1,last)\n",
    "\n",
    "\n",
    "def partition(alist,first,last):\n",
    "    # 第一个元素作为标杆\n",
    "    pivotvalue = alist[first]\n",
    "\n",
    "    # 使用双指针从两边向中间靠拢\n",
    "    leftmark = first+1\n",
    "    rightmark = last\n",
    "\n",
    "    done = False\n",
    "    while not done:\n",
    "\n",
    "        while leftmark <= rightmark and alist[leftmark] <= pivotvalue:\n",
    "            leftmark = leftmark + 1\n",
    "\n",
    "        while alist[rightmark] >= pivotvalue and rightmark >= leftmark:\n",
    "            rightmark = rightmark -1\n",
    "\n",
    "        if rightmark < leftmark:\n",
    "            done = True\n",
    "        else:\n",
    "            # 空间复杂度是1\n",
    "            temp = alist[leftmark]\n",
    "            alist[leftmark] = alist[rightmark]\n",
    "            alist[rightmark] = temp\n",
    "\n",
    "    temp = alist[first]\n",
    "    alist[first] = alist[rightmark]\n",
    "    alist[rightmark] = temp\n",
    "    return rightmark\n",
    "\n",
    "alist = [54,26,93,17,77,31,44,55,20]\n",
    "quickSort(alist)\n",
    "print(alist)"
   ]
  },
  {
   "cell_type": "markdown",
   "metadata": {},
   "source": [
    "## 作业\n",
    "\n",
    "[作业原地址](http://interactivepython.org/courselib/static/pythonds/SortSearch/DiscussionQuestions.html)\n",
    "\n",
    "### q1\n",
    "\n",
    "计算装填因子$λ$分别是：0.1, 0.25, 0.5, 0.75, 0.9, 0.99时需要的比较次数。\n",
    "\n",
    "计算公式：$\\frac{1}{2}(1+\\frac{1}{1−λ})$。\n",
    "\n",
    "直接封装一个函数："
   ]
  },
  {
   "cell_type": "code",
   "execution_count": 15,
   "metadata": {
    "collapsed": false
   },
   "outputs": [
    {
     "name": "stdout",
     "output_type": "stream",
     "text": [
      "0.1  :  1.05555555556\n",
      "0.25  :  1.16666666667\n",
      "0.5  :  1.5\n",
      "0.75  :  2.5\n",
      "0.9  :  5.5\n",
      "0.99  :  50.5\n"
     ]
    }
   ],
   "source": [
    "def hash_compare(load_fraction):\n",
    "    lam = (1 + 1./(1-load_fraction)) / 2\n",
    "    return lam\n",
    "\n",
    "for i in [0.1, 0.25, 0.5, 0.75, 0.9, 0.99]:\n",
    "    print(i, \" : \", hash_compare(i))"
   ]
  },
  {
   "cell_type": "markdown",
   "metadata": {},
   "source": [
    "### q2\n",
    "\n",
    "设计计算字符串的hash值的hash函数。\n",
    "\n",
    "使用positional weight：\n",
    "\n",
    "![](http://interactivepython.org/courselib/static/pythonds/_images/stringhash2.png)\n"
   ]
  },
  {
   "cell_type": "code",
   "execution_count": 21,
   "metadata": {
    "collapsed": false
   },
   "outputs": [
    {
     "name": "stdout",
     "output_type": "stream",
     "text": [
      "641\n",
      "3\n",
      "1687\n",
      "4\n"
     ]
    },
    {
     "data": {
      "text/plain": [
       "4"
      ]
     },
     "execution_count": 21,
     "metadata": {},
     "output_type": "execute_result"
    }
   ],
   "source": [
    "def hash_function_4str(key_str, size):\n",
    "    hash_value = 0\n",
    "    for i, c in enumerate(key_str):\n",
    "        hash_value += (i+1)* ord(c)\n",
    "    print(hash_value)\n",
    "    hash_value %= size\n",
    "    print(hash_value)\n",
    "    return hash_value\n",
    "        \n",
    "        \n",
    "hash_function_4str(\"cat\", 11)\n",
    "hash_function_4str(\"happy\", 11)"
   ]
  },
  {
   "cell_type": "markdown",
   "metadata": {},
   "source": [
    "### q4\n",
    "\n",
    "调研string的hash函数：\n",
    "\n",
    "参考[这篇博客](https://www.byvoid.com/zhs/blog/string-hash-compare)"
   ]
  },
  {
   "cell_type": "markdown",
   "metadata": {},
   "source": [
    "### q9\n",
    "\n",
    "修改快排中pivot的位置（原算法的pivot是第一个元素，题目推荐尝试中间元素），对比性能。"
   ]
  },
  {
   "cell_type": "code",
   "execution_count": 19,
   "metadata": {
    "collapsed": false
   },
   "outputs": [
    {
     "name": "stdout",
     "output_type": "stream",
     "text": [
      "pivotvalue:  77\n",
      "pivotvalue:  17\n",
      "pivotvalue:  55\n",
      "pivotvalue:  54\n",
      "pivotvalue:  31\n",
      "pivotvalue:  20\n",
      "pivotvalue:  26\n",
      "[17, 20, 26, 31, 44, 54, 55, 77, 93]\n"
     ]
    }
   ],
   "source": [
    "def quickSort(alist):\n",
    "    quickSortHelper(alist,0,len(alist)-1)\n",
    "\n",
    "def quickSortHelper(alist,first,last):\n",
    "    if first<last:\n",
    "\n",
    "        # 执行军训排序部分\n",
    "        splitpoint = partition(alist,first,last)\n",
    "        # 递归地对子序列进行排序\n",
    "        quickSortHelper(alist,first,splitpoint-1)\n",
    "        quickSortHelper(alist,splitpoint+1,last)\n",
    "\n",
    "\n",
    "def partition(alist,first,last):\n",
    "    # 中间的元素作为标杆\n",
    "    pivotindex = (first + last) / 2\n",
    "    pivotvalue = alist[pivotindex]\n",
    "\n",
    "    # 使用双指针从两边向中间靠拢\n",
    "    leftmark = first\n",
    "    rightmark = last\n",
    "\n",
    "    done = False\n",
    "    print(\"pivotvalue: \", pivotvalue)\n",
    "    while not done:\n",
    "        while leftmark <= rightmark and alist[leftmark] <= pivotvalue:\n",
    "            leftmark = leftmark + 1\n",
    "\n",
    "        while alist[rightmark] >= pivotvalue and rightmark >= leftmark and rightmark > first:\n",
    "            rightmark = rightmark -1\n",
    "\n",
    "        if rightmark < leftmark or rightmark == first:\n",
    "            done = True\n",
    "        else:\n",
    "            # 空间复杂度是1\n",
    "            temp = alist[leftmark]\n",
    "            alist[leftmark] = alist[rightmark]\n",
    "            alist[rightmark] = temp\n",
    "    temp = alist[pivotindex]\n",
    "    alist[pivotindex] = alist[rightmark]\n",
    "    alist[rightmark] = temp\n",
    "    return leftmark\n",
    "\n",
    "alist = [54,26,93,17,77,31,44,55,20]\n",
    "quickSort(alist)\n",
    "# partition(alist,0, 8)\n",
    "print(alist)"
   ]
  },
  {
   "cell_type": "markdown",
   "metadata": {},
   "source": [
    "pivot设置在中间位置可以让已经排好序的list不用再做交换操作。"
   ]
  }
 ],
 "metadata": {
  "anaconda-cloud": {},
  "kernelspec": {
   "display_name": "Python [default]",
   "language": "python",
   "name": "python2"
  },
  "language_info": {
   "codemirror_mode": {
    "name": "ipython",
    "version": 2
   },
   "file_extension": ".py",
   "mimetype": "text/x-python",
   "name": "python",
   "nbconvert_exporter": "python",
   "pygments_lexer": "ipython2",
   "version": "2.7.12"
  }
 },
 "nbformat": 4,
 "nbformat_minor": 1
}
