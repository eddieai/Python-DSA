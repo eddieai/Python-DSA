{
 "cells": [
  {
   "cell_type": "markdown",
   "metadata": {
    "collapsed": true
   },
   "source": [
    "# 《Problem Solving with Algorithms and Data Structures using Python》 的学习笔记和课后作业答案（四. Recursion）\n",
    "\n",
    "```\n",
    "对应本书第四章。\n",
    "```"
   ]
  },
  {
   "cell_type": "markdown",
   "metadata": {},
   "source": [
    "## 目录\n",
    "\n",
    "* [4.Recursion](#4.Recursion)\n",
    "    + [笔记](#笔记)\n",
    "        + [1.分形](#1.分形)\n",
    "        + [2.汉诺塔](#2.汉诺塔)\n",
    "        + [3.迷宫问题](#3.迷宫问题)\n",
    "        + [对比动态规划](#对比动态规划)\n",
    "    + [作业](#作业)\n",
    "        + [q1](#q1)\n",
    "        + [q2](#q2)\n",
    "        + [q3](#q3)\n",
    "        + [q4](#q4)\n",
    "        + [q5](#q5)\n",
    "        + [q6](#q6)\n",
    "        + [q7](#q7)\n",
    "        + [q8](#q8)\n",
    "        + [q9](#q9)\n",
    "        + [q10](#q10)\n",
    "        + [q11](#q11)\n",
    "        + [q12](#q12)\n",
    "        + [q13](#q13)\n",
    "        + [q14](#q14)\n",
    "        + [q15](#q15)"
   ]
  },
  {
   "cell_type": "markdown",
   "metadata": {},
   "source": [
    "# 4.Recursion\n",
    "\n",
    "[原目录](http://interactivepython.org/courselib/static/pythonds/Recursion/toctree.html#)\n",
    "\n",
    "## 笔记\n",
    "\n",
    "第四章主讲递归，用了很多有意思的例子（可视化的），所以这章的作业会比较有料。\n",
    "\n",
    "**使用递归的三条件**：\n",
    "\n",
    "1. 问题必须有**基础情况**;\n",
    "2. 问题必须可以被分解，直至基础情况；\n",
    "3. 递归算法必须自己调用自己。\n",
    "\n",
    "**例子**：\n",
    "\n",
    "下面的例子都用到了python的画图模块turtle，但貌似只是个toy，用于教学的，这里有一篇[入门教程](http://www.jb51.net/article/52659.htm)，随便看看。\n"
   ]
  },
  {
   "cell_type": "code",
   "execution_count": 1,
   "metadata": {
    "collapsed": false
   },
   "outputs": [],
   "source": [
    "from __future__ import print_function\n",
    "import turtle\n",
    "\n",
    "# 初始化乌龟对象和屏幕对象\n",
    "t = turtle.Turtle()\n",
    "myWin = turtle.Screen()"
   ]
  },
  {
   "cell_type": "markdown",
   "metadata": {},
   "source": [
    "![](https://github.com/applenob/algorithm_note/raw/master/res/turtle_init.png)"
   ]
  },
  {
   "cell_type": "code",
   "execution_count": 2,
   "metadata": {
    "collapsed": true
   },
   "outputs": [],
   "source": [
    "t.left(90)  # 方向默认是朝右，向左九十度使其向正上方"
   ]
  },
  {
   "cell_type": "markdown",
   "metadata": {},
   "source": [
    "![](https://github.com/applenob/algorithm_note/raw/master/res/left_90.png)"
   ]
  },
  {
   "cell_type": "markdown",
   "metadata": {},
   "source": [
    "- t.up()和t.down()是指画笔的起落，落下则行动中会留下轨迹，起来则行动不留痕迹；\n",
    "- t.right(degree)和t.left(degree)调整乌龟的方向；\n",
    "- t.forward(distance)和t.backward(distance)使乌龟前进后退；\n",
    "- t.goto(x,y)使乌龟移动到指定点；\n",
    "- t.color(color_str)设置乌龟颜色；\n",
    "- t.fillcolor(color)设置填充颜色，t.begin_fill()在画需要填充颜色的形状前调用，t.end_fill()在画需要填充颜色的形状后调用；\n",
    "- t.setheading()设置乌龟方向：0 - east，90 - north，180 - west，270 - south；\n",
    "- t.pensize()调整画笔尺寸。"
   ]
  },
  {
   "cell_type": "markdown",
   "metadata": {},
   "source": [
    "### 1.分形\n",
    "\n",
    "分形（fractal），就是满足如下条件的图形，无论对图像如何进行放大，它的局部图像和总体图像总是一致的。[wikipedia的解释](https://en.wikipedia.org/wiki/Fractal)。大自然中的分形有雪花/海岸线等等。\n",
    "\n",
    "你可以想象如果你是上帝，你在创造海岸线的时候，首先在空中画了一副轮廓，当你想进一步描绘海岸线的细节时，你下降了一些高度，然后按照你刚才的思路，接着画了一模一样的轮廓，如此循环。\n",
    "\n",
    "上面这个过程，正好符合递归的思路。\n",
    "\n",
    "下面的代码，画一棵分形的树："
   ]
  },
  {
   "cell_type": "code",
   "execution_count": 2,
   "metadata": {
    "collapsed": false
   },
   "outputs": [],
   "source": [
    "def tree(branchLen,t):\n",
    "    if branchLen > 5:\n",
    "        t.forward(branchLen)\n",
    "        t.right(20)\n",
    "        tree(branchLen-15,t)\n",
    "        t.left(40)\n",
    "        tree(branchLen-15,t)\n",
    "        t.right(20)\n",
    "        t.backward(branchLen)\n",
    "\n",
    "        \n",
    "def draw_tree():\n",
    "    #t = turtle.Turtle()\n",
    "    #myWin = turtle.Screen()\n",
    "    t.left(90)\n",
    "    t.up()\n",
    "    t.backward(100)\n",
    "    t.down()\n",
    "    t.color(\"green\")\n",
    "    tree(75,t)\n",
    "    \n",
    "draw_tree()"
   ]
  },
  {
   "cell_type": "markdown",
   "metadata": {},
   "source": [
    "![]()"
   ]
  },
  {
   "cell_type": "markdown",
   "metadata": {},
   "source": [
    "![](https://github.com/applenob/algorithm_note/raw/master/res/basic_tree.png)\n",
    "\n",
    "接着画一个分形的三角："
   ]
  },
  {
   "cell_type": "code",
   "execution_count": 4,
   "metadata": {
    "collapsed": false
   },
   "outputs": [],
   "source": [
    "def drawTriangle(points,color,myTurtle):\n",
    "    myTurtle.fillcolor(color)\n",
    "    myTurtle.up()\n",
    "    myTurtle.goto(points[0][0],points[0][1])\n",
    "    myTurtle.down()\n",
    "    myTurtle.begin_fill()\n",
    "    myTurtle.goto(points[1][0],points[1][1])\n",
    "    myTurtle.goto(points[2][0],points[2][1])\n",
    "    myTurtle.goto(points[0][0],points[0][1])\n",
    "    myTurtle.end_fill()\n",
    "\n",
    "def getMid(p1,p2):\n",
    "    return ( (p1[0]+p2[0]) / 2, (p1[1] + p2[1]) / 2)\n",
    "\n",
    "def sierpinski(points,degree,myTurtle):\n",
    "    colormap = ['blue','red','green','white','yellow',\n",
    "                'violet','orange']\n",
    "    drawTriangle(points,colormap[degree],myTurtle)\n",
    "    if degree > 0:\n",
    "        sierpinski([points[0],\n",
    "                        getMid(points[0], points[1]),\n",
    "                        getMid(points[0], points[2])],\n",
    "                   degree-1, myTurtle)\n",
    "        sierpinski([points[1],\n",
    "                        getMid(points[0], points[1]),\n",
    "                        getMid(points[1], points[2])],\n",
    "                   degree-1, myTurtle)\n",
    "        sierpinski([points[2],\n",
    "                        getMid(points[2], points[1]),\n",
    "                        getMid(points[0], points[2])],\n",
    "                   degree-1, myTurtle)\n",
    "\n",
    "def main():\n",
    "    # myTurtle = turtle.Turtle()\n",
    "    myTurtle = t\n",
    "    # myWin = turtle.Screen()\n",
    "    myPoints = [[-100,-50],[0,100],[100,-50]]\n",
    "    sierpinski(myPoints,3,myTurtle)\n",
    "\n",
    "myWin.clearscreen()\n",
    "main()"
   ]
  },
  {
   "cell_type": "markdown",
   "metadata": {},
   "source": [
    "![](https://github.com/applenob/algorithm_note/raw/master/res/triangle.png)"
   ]
  },
  {
   "cell_type": "markdown",
   "metadata": {},
   "source": [
    "### 2.汉诺塔\n",
    "\n",
    "汉诺塔规则：\n",
    "\n",
    "有三根柱子和一些大小不同的盘子。初始状态是所有盘子从大到小一直往上堆积在起始柱上。\n",
    "\n",
    "每次可以移动一个盘子，到其他两根柱子上，必须保证大的盘子在下面，小的盘子在上面。\n",
    "\n",
    "最终的目标是把所有盘子从大到小往上堆积在目标柱上。\n",
    "\n",
    "![](https://ss3.bdstatic.com/70cFv8Sh_Q1YnxGkpoWK1HF6hhy/it/u=3171323217,1599602218&fm=23&gp=0.jpg)\n",
    "\n",
    "**分析**：\n",
    "\n",
    "考虑问题的分解：\n",
    "\n",
    "如果有n片盘子，那么可以分解成先将n-1片移到中间柱上，再把最大的一片从起始柱移到目标柱上，再把n-1片移到目标柱上。\n",
    "\n",
    "移动n片盘子和移动n-1片盘子是完全相同的问题，所以可以使用自己调用自己。\n",
    "\n",
    "那么基础情况呢？如果只是移动一片盘子，那就直接从起始柱移到目标柱上，就解决了。\n",
    "\n",
    "根据上面的分析，使用递归的三个条件都满足了。"
   ]
  },
  {
   "cell_type": "code",
   "execution_count": 4,
   "metadata": {
    "collapsed": false
   },
   "outputs": [
    {
     "name": "stdout",
     "output_type": "stream",
     "text": [
      "('moving disk from', 'A', 'to', 'B')\n",
      "('moving disk from', 'A', 'to', 'C')\n",
      "('moving disk from', 'B', 'to', 'C')\n",
      "('moving disk from', 'A', 'to', 'B')\n",
      "('moving disk from', 'C', 'to', 'A')\n",
      "('moving disk from', 'C', 'to', 'B')\n",
      "('moving disk from', 'A', 'to', 'B')\n"
     ]
    }
   ],
   "source": [
    "def moveTower(height,fromPole, toPole, withPole):\n",
    "    if height >= 1:\n",
    "        moveTower(height-1,fromPole,withPole,toPole)\n",
    "        moveDisk(fromPole,toPole)\n",
    "        moveTower(height-1,withPole,toPole,fromPole)\n",
    "\n",
    "def moveDisk(fp,tp):\n",
    "    print(\"moving disk from\",fp,\"to\",tp)\n",
    "\n",
    "moveTower(3,\"A\",\"B\",\"C\")"
   ]
  },
  {
   "cell_type": "markdown",
   "metadata": {},
   "source": [
    "### 3.迷宫问题\n",
    "\n",
    "想必这个问题就不用介绍了，就是给定起点和迷宫信息，要找到一条出去的路径。\n",
    "\n",
    "**分析**：\n",
    "\n",
    "如何找到一条可以出去的路呢？\n",
    "\n",
    "不考虑出去的路的长短的话，我们可以先考虑当前点可能的操作，无非是上下左右移动（能不能移动另说）。\n",
    "\n",
    "那么我们可以把问题等价于在当前点的所有可能操作+假设这样做了一步之后的整体搜索。\n",
    "\n",
    "其实说白了就是深度优先搜索。\n",
    "\n",
    "作者给出了一个turtle实现的案例（都可以做一个游戏了，老外写书真心认真～）"
   ]
  },
  {
   "cell_type": "code",
   "execution_count": 5,
   "metadata": {
    "collapsed": false
   },
   "outputs": [
    {
     "data": {
      "text/plain": [
       "True"
      ]
     },
     "execution_count": 5,
     "metadata": {},
     "output_type": "execute_result"
    }
   ],
   "source": [
    "PART_OF_PATH = 'O'\n",
    "TRIED = '.'\n",
    "OBSTACLE = '+'\n",
    "DEAD_END = '-'\n",
    "\n",
    "class Maze:\n",
    "    def __init__(self,mazeFileName):\n",
    "        rowsInMaze = 0\n",
    "        columnsInMaze = 0\n",
    "        self.mazelist = []\n",
    "        # 从文件中读取迷宫信息：包括每个坐标的点是墙还是路；起始坐标；迷宫的宽/高\n",
    "        mazeFile = open(mazeFileName,'r')\n",
    "        rowsInMaze = 0\n",
    "        for line in mazeFile:\n",
    "            rowList = []\n",
    "            col = 0\n",
    "            for ch in line[:-1]:\n",
    "                rowList.append(ch)\n",
    "                if ch == 'S':\n",
    "                    self.startRow = rowsInMaze\n",
    "                    self.startCol = col\n",
    "                col = col + 1\n",
    "            rowsInMaze = rowsInMaze + 1\n",
    "            self.mazelist.append(rowList)\n",
    "            columnsInMaze = len(rowList)\n",
    "\n",
    "        self.rowsInMaze = rowsInMaze\n",
    "        self.columnsInMaze = columnsInMaze\n",
    "        # x和y的起点默认在屏幕中心，所以要移到\n",
    "        self.xTranslate = -columnsInMaze/2\n",
    "        self.yTranslate = rowsInMaze/2\n",
    "        # self.t = turtle.Turtle()\n",
    "        self.t = t\n",
    "        self.t.shape('turtle')\n",
    "        # self.wn = turtle.Screen()\n",
    "        self.wn = myWin\n",
    "        # 设置窗口的左下角坐标和右上角坐标\n",
    "        self.wn.setworldcoordinates(-(columnsInMaze-1)/2-.5,-(rowsInMaze-1)/2-.5,\n",
    "                                    (columnsInMaze-1)/2+.5,(rowsInMaze-1)/2+.5)\n",
    "\n",
    "    def drawMaze(self):\n",
    "        \"\"\"画迷宫\"\"\"\n",
    "        self.t.speed(10)\n",
    "        self.wn.tracer(0)\n",
    "        for y in range(self.rowsInMaze):\n",
    "            for x in range(self.columnsInMaze):\n",
    "                if self.mazelist[y][x] == OBSTACLE:\n",
    "                    self.drawCenteredBox(x+self.xTranslate,-y+self.yTranslate,'orange')\n",
    "        self.t.color('black')\n",
    "        self.t.fillcolor('blue')\n",
    "        self.wn.update()\n",
    "        self.wn.tracer(1)\n",
    "\n",
    "    def drawCenteredBox(self,x,y,color):\n",
    "        self.t.up()\n",
    "        self.t.goto(x-.5,y-.5)\n",
    "        self.t.color(color)\n",
    "        self.t.fillcolor(color)\n",
    "        self.t.setheading(90)\n",
    "        self.t.down()\n",
    "        self.t.begin_fill()\n",
    "        for i in range(4):\n",
    "            self.t.forward(1)\n",
    "            self.t.right(90)\n",
    "        self.t.end_fill()\n",
    "\n",
    "    def moveTurtle(self,x,y):\n",
    "        self.t.up()\n",
    "        self.t.setheading(self.t.towards(x+self.xTranslate,-y+self.yTranslate))\n",
    "        self.t.goto(x+self.xTranslate,-y+self.yTranslate)\n",
    "\n",
    "    def dropBreadcrumb(self,color):\n",
    "        self.t.dot(10,color)\n",
    "\n",
    "    def updatePosition(self,row,col,val=None):\n",
    "        if val:\n",
    "            self.mazelist[row][col] = val\n",
    "        self.moveTurtle(col,row)\n",
    "\n",
    "        if val == PART_OF_PATH:\n",
    "            color = 'green'\n",
    "        elif val == OBSTACLE:\n",
    "            color = 'red'\n",
    "        elif val == TRIED:\n",
    "            color = 'black'\n",
    "        elif val == DEAD_END:\n",
    "            color = 'red'\n",
    "        else:\n",
    "            color = None\n",
    "\n",
    "        if color:\n",
    "            self.dropBreadcrumb(color)\n",
    "\n",
    "    def isExit(self,row,col):\n",
    "        return (row == 0 or\n",
    "                row == self.rowsInMaze-1 or\n",
    "                col == 0 or\n",
    "                col == self.columnsInMaze-1 )\n",
    "\n",
    "    def __getitem__(self,idx):\n",
    "        return self.mazelist[idx]\n",
    "\n",
    "\n",
    "def searchFrom(maze, startRow, startColumn):\n",
    "    # try each of four directions from this point until we find a way out.\n",
    "    # base Case return values:\n",
    "    #  1. We have run into an obstacle, return false\n",
    "    maze.updatePosition(startRow, startColumn)\n",
    "    if maze[startRow][startColumn] == OBSTACLE :\n",
    "        return False\n",
    "    #  2. We have found a square that has already been explored\n",
    "    if maze[startRow][startColumn] == TRIED or maze[startRow][startColumn] == DEAD_END:\n",
    "        return False\n",
    "    # 3. We have found an outside edge not occupied by an obstacle\n",
    "    if maze.isExit(startRow,startColumn):\n",
    "        maze.updatePosition(startRow, startColumn, PART_OF_PATH)\n",
    "        return True\n",
    "    maze.updatePosition(startRow, startColumn, TRIED)\n",
    "    # Otherwise, use logical short circuiting to try each direction\n",
    "    # in turn (if needed)\n",
    "    found = searchFrom(maze, startRow-1, startColumn) or \\\n",
    "            searchFrom(maze, startRow+1, startColumn) or \\\n",
    "            searchFrom(maze, startRow, startColumn-1) or \\\n",
    "            searchFrom(maze, startRow, startColumn+1)\n",
    "    if found:\n",
    "        maze.updatePosition(startRow, startColumn, PART_OF_PATH)\n",
    "    else:\n",
    "        maze.updatePosition(startRow, startColumn, DEAD_END)\n",
    "    return found\n",
    "\n",
    "\n",
    "myWin.clearscreen()\n",
    "myMaze = Maze('maze2.txt')\n",
    "myMaze.drawMaze()\n",
    "myMaze.updatePosition(myMaze.startRow,myMaze.startCol)\n",
    "\n",
    "searchFrom(myMaze, myMaze.startRow, myMaze.startCol)"
   ]
  },
  {
   "cell_type": "markdown",
   "metadata": {},
   "source": [
    "![](https://github.com/applenob/algorithm_note/raw/master/res/maze.png)"
   ]
  },
  {
   "cell_type": "markdown",
   "metadata": {},
   "source": [
    "### 对比动态规划\n",
    "\n",
    "**动态规划（Dynamic Programming）**。\n",
    "\n",
    "递归虽然好用，写起来简单，代码易读，但是依然有很多问题不适合用递归。\n",
    "\n",
    "比如说动态规划，拿最简单的**硬币找钱**问题举例子。\n",
    "\n",
    "比如有三种硬币1,2,5元的，现在有一定数额的总数，请问怎么找前可以使得硬币数最少？\n",
    "\n",
    "类似的还有**背包问题**：\n",
    "\n",
    "比如背包可以装的物品有1，2，5公斤的物品，带来的效益分别是1,3,10元，如何安排物品，使得背包的总效益最大？\n",
    "\n",
    "如果采用递归去解决这些问题，会产生时间复杂度非常大的问题，为什么呢？比如你要求的是规模是10的问题，你把它缩小成规模是5和5的问题，这两个子问题虽然是相同的问题，但由于递归不会记录子问题的答案，所以会计算两次。\n",
    "\n",
    "那么我们把每次递归计算的不同规模的问题的答案记录下来呢？\n",
    "\n",
    "当然可以，这会节省很多时间，但在很多情况下，这不是最高明的算法。\n",
    "\n",
    "如果采用动态规划，**直接从最小规模的问题开始出发，记录所有规模下的问题答案，直到指定的规模，获得结果。**\n",
    "\n",
    "当然，需要具体问题具体分析。\n",
    "\n",
    "## 作业\n",
    "\n",
    "[作业原地址](http://interactivepython.org/courselib/static/pythonds/Recursion/pythondsProgrammingExercises.html)\n",
    "\n",
    "### q1\n",
    "\n",
    "用递归的方法写一个阶乘函数：\n"
   ]
  },
  {
   "cell_type": "code",
   "execution_count": 6,
   "metadata": {
    "collapsed": false
   },
   "outputs": [
    {
     "data": {
      "text/plain": [
       "24"
      ]
     },
     "execution_count": 6,
     "metadata": {},
     "output_type": "execute_result"
    }
   ],
   "source": [
    "def factorial(n):\n",
    "    if n <= 0:\n",
    "        return 0\n",
    "    elif n == 1:\n",
    "        return 1\n",
    "    else:\n",
    "        return n*factorial(n-1)\n",
    "    \n",
    "factorial(4)"
   ]
  },
  {
   "cell_type": "markdown",
   "metadata": {},
   "source": [
    "### q2\n",
    "\n",
    "用递归的方法逆转一个list：\n"
   ]
  },
  {
   "cell_type": "code",
   "execution_count": 10,
   "metadata": {
    "collapsed": false
   },
   "outputs": [
    {
     "name": "stdout",
     "output_type": "stream",
     "text": [
      "[6, 5, 4, 3, 2, 1]\n"
     ]
    }
   ],
   "source": [
    "def reverse(l):\n",
    "    if len(l) == 1:\n",
    "        return l\n",
    "    elif len(l) == 2:\n",
    "        l[0], l[1] = l[1], l[0]\n",
    "        return l\n",
    "    else:\n",
    "        l[0], l[-1] = l[-1], l[0]\n",
    "        l[1:-1] = reverse(l[1:-1])\n",
    "        return l\n",
    "    \n",
    "l = [1,2,3,4,5,6]\n",
    "print reverse(l)"
   ]
  },
  {
   "cell_type": "markdown",
   "metadata": {},
   "source": [
    "### q3\n",
    "\n",
    "修改作者的分形树："
   ]
  },
  {
   "cell_type": "code",
   "execution_count": 3,
   "metadata": {
    "collapsed": false
   },
   "outputs": [],
   "source": [
    "import random\n",
    "\n",
    "def myTree(branchLen,t):\n",
    "    # print branchLen\n",
    "    if branchLen > 5:\n",
    "        step = random.randrange(15, 29)\n",
    "        angle = random.randrange(15, 45)\n",
    "        t.pensize(max(4, branchLen/step*5))\n",
    "        if branchLen < 30:\n",
    "            t.color(\"green\")\n",
    "        t.forward(branchLen)\n",
    "        t.right(angle)\n",
    "        myTree(branchLen-step, t)\n",
    "        t.left(angle*2)\n",
    "        myTree(branchLen-step, t)\n",
    "        t.right(angle)\n",
    "        t.backward(branchLen)\n",
    "        t.color(\"brown\")\n",
    "        \n",
    "def my_draw_tree():\n",
    "    t.left(90)\n",
    "    t.up()\n",
    "    t.backward(100)\n",
    "    t.down()\n",
    "    t.color(\"brown\")\n",
    "    myTree(100,t)\n",
    "    \n",
    "myWin.clearscreen()    \n",
    "my_draw_tree()"
   ]
  },
  {
   "cell_type": "markdown",
   "metadata": {},
   "source": [
    "![]()"
   ]
  },
  {
   "cell_type": "markdown",
   "metadata": {},
   "source": [
    "![](https://github.com/applenob/algorithm_note/raw/master/res/my_tree.png)\n",
    "\n",
    "### q4\n",
    "\n",
    "画一座分形的山："
   ]
  },
  {
   "cell_type": "code",
   "execution_count": 4,
   "metadata": {
    "collapsed": false
   },
   "outputs": [],
   "source": [
    "def drawTriangle(points,color,myTurtle):\n",
    "    myTurtle.fillcolor(color)\n",
    "    myTurtle.up()\n",
    "    myTurtle.goto(points[0][0],points[0][1])\n",
    "    myTurtle.down()\n",
    "    myTurtle.begin_fill()\n",
    "    myTurtle.goto(points[1][0],points[1][1])\n",
    "    myTurtle.goto(points[2][0],points[2][1])\n",
    "    myTurtle.goto(points[0][0],points[0][1])\n",
    "    myTurtle.end_fill()\n",
    "    \n",
    "def drawPlatform(points,color,myTurtle):\n",
    "    \"\"\"画一个梯形的平台,其实也可以直接写一个drawPolygon的方法\"\"\"\n",
    "    myTurtle.fillcolor(color)\n",
    "    myTurtle.up()\n",
    "    myTurtle.goto(points[0][0],points[0][1])\n",
    "    myTurtle.down()\n",
    "    myTurtle.begin_fill()\n",
    "    myTurtle.goto(points[1][0],points[1][1])\n",
    "    myTurtle.goto(points[2][0],points[2][1])\n",
    "    myTurtle.goto(points[3][0],points[3][1])\n",
    "    myTurtle.goto(points[0][0],points[0][1])\n",
    "    myTurtle.end_fill()\n",
    "\n",
    "def getMid(p1,p2):\n",
    "    return ( (p1[0]+p2[0]) / 2, (p1[1] + p2[1]) / 2)\n",
    "\n",
    "def mountain(width,level,color,myTurtle):\n",
    "    if width > 9:\n",
    "        drawTriangle([(-width/2.,level),(-width/3.,level+width/3.),(-width/6.,level)],\n",
    "                     color,myTurtle)\n",
    "        drawTriangle([(width/6.,level),(width/3.,level+width/3.),(width/2.,level)],\n",
    "                     color,myTurtle)\n",
    "        drawPlatform([(-width/3.,level),(-width/6.,level+width/3.),\n",
    "                      (width/6.,level+width/3.),(width/3.,level)],\n",
    "                     color,myTurtle)\n",
    "        mountain(width/3.,level+width/3.,color,myTurtle)\n",
    "    else:\n",
    "        drawTriangle([(-width/2.,level),(0.,level+width),(width/2.,level)],\n",
    "                     color,myTurtle)\n",
    "\n",
    "def main():\n",
    "    myTurtle = t\n",
    "    t.color(\"white\")\n",
    "    mountain(900,-450,\"blue\",myTurtle)\n",
    "\n",
    "myWin.clearscreen()\n",
    "main()"
   ]
  },
  {
   "cell_type": "markdown",
   "metadata": {},
   "source": [
    "![](https://github.com/applenob/algorithm_note/raw/master/res/mountain.png)\n",
    "\n",
    "画风有点像葫芦娃。"
   ]
  },
  {
   "cell_type": "markdown",
   "metadata": {},
   "source": [
    "### q5\n",
    "\n",
    "用递归的方法解决斐波那契数列："
   ]
  },
  {
   "cell_type": "code",
   "execution_count": 15,
   "metadata": {
    "collapsed": false
   },
   "outputs": [
    {
     "name": "stdout",
     "output_type": "stream",
     "text": [
      "[1, 1, 2, 3, 5, 8, 13, 21, 34, 55, 89, 144, 233, 377, 610, 987, 1597, 2584, 4181]\n"
     ]
    }
   ],
   "source": [
    "def genFibonacci(n):\n",
    "    \"\"\"递归方法\"\"\"\n",
    "    if n<=2:\n",
    "        return 1\n",
    "    else :\n",
    "        return genFibonacci(n-1)+genFibonacci(n-2)\n",
    "    \n",
    "genFibonacci(7)\n",
    "l = []\n",
    "for i in range(1, 20):\n",
    "    l.append(genFibonacci(i))\n",
    "print l"
   ]
  },
  {
   "cell_type": "code",
   "execution_count": 16,
   "metadata": {
    "collapsed": false
   },
   "outputs": [
    {
     "name": "stdout",
     "output_type": "stream",
     "text": [
      "[1, 1, 2, 3, 5, 8, 13, 21, 34, 55, 89, 144, 233, 377, 610, 987, 1597, 2584, 4181]\n"
     ]
    }
   ],
   "source": [
    "def genFibonacciSequence(n):\n",
    "    \"\"\"循环方法\"\"\"\n",
    "    if n<=2:\n",
    "        return [1]*n\n",
    "    else:\n",
    "        l = [1, 1]\n",
    "        for i in range(2, n):\n",
    "            l.append(l[i-1]+l[i-2])\n",
    "    return l\n",
    "          \n",
    "print genFibonacciSequence(19)"
   ]
  },
  {
   "cell_type": "markdown",
   "metadata": {},
   "source": [
    "分析：\n",
    "\n",
    "如果只是生成一个指定序号的斐波那契数，那么两种方法的时间复杂度是一样的。\n",
    "\n",
    "但是如果生成的是一个序列的话，还是循环方法时间复杂度小，是$O(n)$；递归方法的时间复杂度是$O(n^2)$。\n",
    "\n",
    "关键还是在于递归方法没有记录计算过的指定序号的斐波那契数的数值。\n"
   ]
  },
  {
   "cell_type": "markdown",
   "metadata": {},
   "source": [
    "### q6\n",
    "\n",
    "改进汉诺塔的算法，使用3个栈记录三个柱子的实时情况："
   ]
  },
  {
   "cell_type": "code",
   "execution_count": 19,
   "metadata": {
    "collapsed": false
   },
   "outputs": [
    {
     "name": "stdout",
     "output_type": "stream",
     "text": [
      "moving disk from A to B\n",
      "Tower A:  [3, 2]\n",
      "Tower B:  [1]\n",
      "Tower C:  []\n",
      "moving disk from A to C\n",
      "Tower A:  [3]\n",
      "Tower B:  [1]\n",
      "Tower C:  [2]\n",
      "moving disk from B to C\n",
      "Tower A:  [3]\n",
      "Tower B:  []\n",
      "Tower C:  [2, 1]\n",
      "moving disk from A to B\n",
      "Tower A:  []\n",
      "Tower B:  [3]\n",
      "Tower C:  [2, 1]\n",
      "moving disk from C to A\n",
      "Tower A:  [1]\n",
      "Tower B:  [3]\n",
      "Tower C:  [2]\n",
      "moving disk from C to B\n",
      "Tower A:  [1]\n",
      "Tower B:  [3, 2]\n",
      "Tower C:  []\n",
      "moving disk from A to B\n",
      "Tower A:  []\n",
      "Tower B:  [3, 2, 1]\n",
      "Tower C:  []\n"
     ]
    }
   ],
   "source": [
    "class Tower:\n",
    "    def __init__(self, name):\n",
    "        self.name = name\n",
    "        self.stack = []\n",
    "        \n",
    "def get_tower_by_name(name, ts):\n",
    "    for t in ts:\n",
    "        if t.name == name:\n",
    "            return t\n",
    "\n",
    "def moveTower(height,fromPole, toPole, withPole):\n",
    "    \"\"\"宏观上的移动\"\"\"\n",
    "    if height >= 1:\n",
    "        moveTower(height-1, fromPole, withPole, toPole)\n",
    "        moveDisk(fromPole, toPole, withPole)\n",
    "        moveTower(height-1, withPole, toPole, fromPole)\n",
    "\n",
    "def moveDisk(fromPole, toPole, withPole):\n",
    "    \"\"\"具体移动一个盘子\"\"\"\n",
    "    print(\"moving disk from\", fromPole.name, \"to\", toPole.name)\n",
    "    toPole.stack.append(fromPole.stack.pop())\n",
    "    print(\"Tower A: \", get_tower_by_name(\"A\", [fromPole, toPole, withPole]).stack)\n",
    "    print(\"Tower B: \", get_tower_by_name(\"B\", [fromPole, toPole, withPole]).stack)\n",
    "    print(\"Tower C: \", get_tower_by_name(\"C\", [fromPole, toPole, withPole]).stack)\n",
    "\n",
    "def main_hanoi(height):\n",
    "    t_from = Tower(\"A\")\n",
    "    t_to = Tower(\"B\")\n",
    "    t_with = Tower(\"C\")\n",
    "    t_from.stack = range(height, 0, -1)\n",
    "    moveTower(height, t_from, t_to, t_with)\n",
    "    \n",
    "main_hanoi(3)"
   ]
  },
  {
   "cell_type": "markdown",
   "metadata": {
    "collapsed": false
   },
   "source": [
    "### q7\n",
    "\n",
    "使用turtle模块，画出Hilbert curve。\n",
    "\n",
    "Hilbert curve的介绍：[wikipedia](https://en.wikipedia.org/wiki/Hilbert_curve)\n",
    "\n",
    "![](https://upload.wikimedia.org/wikipedia/commons/4/46/Hilbert_curve.gif)\n",
    "\n",
    "思路：\n",
    "\n",
    "参考[这里](http://www.soc.napier.ac.uk/~andrew/hilbert.html)，将问题分解成画“三笔凸包”和连接线。\n",
    "\n",
    "![](http://www.soc.napier.ac.uk/~andrew/hilbert1.gif)\n",
    "\n",
    "![](http://www.soc.napier.ac.uk/~andrew/hilbert2.gif)"
   ]
  },
  {
   "cell_type": "code",
   "execution_count": 9,
   "metadata": {
    "collapsed": false
   },
   "outputs": [],
   "source": [
    "def draw_hilbert(x0, y0, xis, yis, xjs, yjs, n):\n",
    "    \"\"\"\n",
    "    x0 和 y0是左下角的坐标；\n",
    "    xis 和 yis是右下角坐标（凸包的终点方向）；\n",
    "    xjs 和 yjs是左上角坐标（下一笔方向）；\n",
    "    上述坐标皆是相对于缺口朝下的方向。\n",
    "    \"\"\"\n",
    "    if n <= 0:\n",
    "        t.goto(x0+(xis+yis)/2, y0+(xjs+yjs)/2);\n",
    "    else:\n",
    "        draw_hilbert(x0, y0, yis/2, xis/2, yjs/2, xjs/2, n-1)  # 画左下角分区 \n",
    "        draw_hilbert(x0+xis/2, y0+xjs/2 ,xis/2, yis/2, xjs/2, yjs/2, n-1)  # 画左上角分区 \n",
    "        draw_hilbert(x0+xis/2+yis/2, y0+xjs/2+yjs/2, xis/2, yis/2, xjs/2, yjs/2,n-1)  # 画右上角分区 \n",
    "        draw_hilbert(x0+xis/2+yis, y0+xjs/2+yjs, -yis/2, -xis/2, -yjs/2, -xjs/2, n-1)  # 画右下角分区 \n",
    "\n",
    "myWin.clearscreen()\n",
    "t.up()\n",
    "t.goto(0, 0)\n",
    "t.down()\n",
    "draw_hilbert(0., 0., 300., 0., 0., 300., 1)"
   ]
  },
  {
   "cell_type": "markdown",
   "metadata": {},
   "source": [
    "### q8\n",
    "\n",
    "使用turtle模块，画出Koch snowflake。\n",
    "\n",
    "介绍参考[wiki-pedia](https://en.wikipedia.org/wiki/Koch_snowflake)。\n",
    "\n",
    "![](https://upload.wikimedia.org/wikipedia/commons/f/fd/Von_Koch_curve.gif)\n",
    "\n",
    "思路：\n",
    "\n",
    "1. 首先将任务分成三个相同的三部分，即三角形的三条边，不管每条边如何复杂化，都是相同的操作。\n",
    "\n",
    "2. 对于每条边，宏观上的操作如下，（在一根直线上长出一个角）：\n",
    "\n",
    "![](http://python-with-science.readthedocs.io/en/latest/_images/koch_order_1.png)\n"
   ]
  },
  {
   "cell_type": "code",
   "execution_count": 28,
   "metadata": {
    "collapsed": false
   },
   "outputs": [],
   "source": [
    "def koch(length, order):\n",
    "    if order > 0:\n",
    "        for turn in [0, 60, -120, 60]:\n",
    "            t.left(turn)\n",
    "            koch(length/3., order-1)            \n",
    "    else:\n",
    "        t.forward(length)\n",
    "\n",
    "\n",
    "def draw_koch(length, order):\n",
    "    for i in range(3):\n",
    "        koch(length, order)\n",
    "        t.right(120)\n",
    "        \n",
    "myWin.clearscreen()\n",
    "t.pensize(2)\n",
    "t.speed(10)\n",
    "t.goto(0, 0)\n",
    "t.down()\n",
    "draw_koch(100., 3)"
   ]
  },
  {
   "cell_type": "code",
   "execution_count": null,
   "metadata": {
    "collapsed": true
   },
   "outputs": [],
   "source": []
  }
 ],
 "metadata": {
  "anaconda-cloud": {},
  "kernelspec": {
   "display_name": "Python [default]",
   "language": "python",
   "name": "python2"
  },
  "language_info": {
   "codemirror_mode": {
    "name": "ipython",
    "version": 2
   },
   "file_extension": ".py",
   "mimetype": "text/x-python",
   "name": "python",
   "nbconvert_exporter": "python",
   "pygments_lexer": "ipython2",
   "version": "2.7.12"
  }
 },
 "nbformat": 4,
 "nbformat_minor": 0
}
