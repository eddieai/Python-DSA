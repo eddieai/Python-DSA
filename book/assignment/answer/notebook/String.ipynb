{
 "cells": [
  {
   "cell_type": "markdown",
   "metadata": {
    "collapsed": true
   },
   "source": [
    "# LeetCode 中涉及String的题目总结"
   ]
  },
  {
   "cell_type": "markdown",
   "metadata": {},
   "source": [
    "```\n",
    "本篇关于LeetCode中涉及String使用的题目总结\n",
    "```"
   ]
  },
  {
   "cell_type": "markdown",
   "metadata": {},
   "source": [
    "## 目录\n",
    "\n",
    "* [32. Longest Valid Parentheses](#32.-Longest-Valid-Parentheses)\n"
   ]
  },
  {
   "cell_type": "markdown",
   "metadata": {},
   "source": [
    "## 32. Longest Valid Parentheses\n",
    "\n",
    "[原题](https://leetcode.com/problems/longest-valid-parentheses)\n",
    "\n",
    "难度：Hard\n",
    "\n",
    "```\n",
    "Given a string containing just the characters '(' and ')', find the length of the longest valid (well-formed) parentheses substring.\n",
    "\n",
    "For \"(()\", the longest valid parentheses substring is \"()\", which has length = 2.\n",
    "\n",
    "Another example is \")()())\", where the longest valid parentheses substring is \"()()\", which has length = 4.\n",
    "\n",
    "\n",
    "```"
   ]
  },
  {
   "cell_type": "code",
   "execution_count": 1,
   "metadata": {
    "collapsed": false
   },
   "outputs": [
    {
     "name": "stdout",
     "output_type": "stream",
     "text": [
      "4\n",
      "4\n",
      "2\n",
      "2\n",
      "6\n"
     ]
    }
   ],
   "source": [
    "def longestValidParentheses(s):\n",
    "        \"\"\"\n",
    "        :type s: str\n",
    "        :rtype: int\n",
    "        \"\"\"\n",
    "        stack = []\n",
    "        result = 0\n",
    "        left_connect = None\n",
    "        for i, token in enumerate(s):\n",
    "            if token == '(':\n",
    "                if left_connect != None:\n",
    "                    stack.append(left_connect)\n",
    "                    left_connect = None\n",
    "                else:\n",
    "                    stack.append(i)\n",
    "            else:\n",
    "                if stack:\n",
    "                    last_unclosed= stack.pop()\n",
    "                    result = max(i-last_unclosed+1, result)\n",
    "                    left_connect = last_unclosed\n",
    "                else:\n",
    "                    left_connect = None\n",
    "        return result\n",
    "    \n",
    "print(longestValidParentheses(\")()())\"))\n",
    "print(longestValidParentheses(\"(()()\"))\n",
    "print(longestValidParentheses(\"(()(()\"))\n",
    "print(longestValidParentheses(\")()((()\"))\n",
    "print(longestValidParentheses(\")(()())\"))"
   ]
  },
  {
   "cell_type": "markdown",
   "metadata": {},
   "source": [
    "### 分析\n",
    "\n",
    "上面的算法时间复杂度是O(n)，空间复杂度是O(k/2)，k是最长有效括号的长度。\n",
    "\n",
    "最简单的检查括号是否匹配问题的栈是来存\"(\"的。但是这里的栈是存的是前一个没被关闭的\"(\"的下标。\n",
    "\n",
    "如果左边有连续的完整的子串，left_connect存的是最左边的下标；否则left_connect为None。\n",
    "\n",
    "在设计算法的时候，通过一个保存前一个没被关闭的\"(\"的下标的栈，来实现最长子串的长度计算；\n",
    "\n",
    "但如果仅仅是这样，则对\"()(())\"这样的串只能寻到\"(())\"当做最大合理子串；而题目的意思是紧挨着的合理的子串也要算进去。\n",
    "\n",
    "因此其他地方都不用变，当遍历到\"()(\"也就是第三个符号时，要多算进去两个长度；而遍历到第四个符号和后面的符号，就不用了，因为不是紧挨着。所以这里使用left_connect变量来解决这一问题。"
   ]
  },
  {
   "cell_type": "code",
   "execution_count": null,
   "metadata": {
    "collapsed": true
   },
   "outputs": [],
   "source": []
  }
 ],
 "metadata": {
  "anaconda-cloud": {},
  "kernelspec": {
   "display_name": "Python [conda env:py35]",
   "language": "python",
   "name": "conda-env-py35-py"
  },
  "language_info": {
   "codemirror_mode": {
    "name": "ipython",
    "version": 3
   },
   "file_extension": ".py",
   "mimetype": "text/x-python",
   "name": "python",
   "nbconvert_exporter": "python",
   "pygments_lexer": "ipython3",
   "version": "3.5.2"
  }
 },
 "nbformat": 4,
 "nbformat_minor": 0
}
