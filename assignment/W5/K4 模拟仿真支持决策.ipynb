{
 "cells": [
  {
   "cell_type": "markdown",
   "metadata": {},
   "source": [
    "## 【K04】模拟仿真支持决策\n",
    "考虑现实生活中的一个能够优化的业务场景，尽量完整定义问题，并设计一个模拟仿真来解决优化决策的问题。\n",
    "\n",
    "仿照课程中的打印机决策优化问题来组织你的作业，不需要编程。\n",
    "\n",
    "请说明你做的各种假设和参数，并指出需要用到的队列和各种概率数据。\n",
    "\n",
    "例如：\n",
    "\n",
    "排队等待洗车；\n",
    "超市等待结账；\n",
    "航班起飞降落；\n",
    "银行出纳柜台等等。"
   ]
  },
  {
   "cell_type": "code",
   "execution_count": null,
   "metadata": {},
   "outputs": [],
   "source": []
  }
 ],
 "metadata": {
  "kernelspec": {
   "display_name": "base",
   "language": "python",
   "name": "python3"
  },
  "language_info": {
   "name": "python",
   "version": "3.11.5"
  }
 },
 "nbformat": 4,
 "nbformat_minor": 2
}
