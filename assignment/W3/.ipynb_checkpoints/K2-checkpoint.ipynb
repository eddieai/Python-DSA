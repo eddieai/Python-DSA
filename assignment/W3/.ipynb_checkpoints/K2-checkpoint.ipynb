{
 "cells": [
  {
   "cell_type": "markdown",
   "metadata": {},
   "source": [
    "## 作业描述\n",
    "请编写程序，验证向一个列表添加数据项的两种方法，复杂度对比：\n",
    "\n",
    "list.insert(0, item)：添加数据项成为列表的第一个元素\n",
    "\n",
    "list.append(item)：添加数据项成为列表的最后一个元素\n",
    "\n",
    "数据列表的规模为1万起，步长1万，10个规模点，每个规模点操作100次；\n",
    "\n",
    "用timeit模块获得操作时间，并进行对比。\n",
    "\n",
    "用big_o模块来拟合两种方法的复杂度。"
   ]
  },
  {
   "cell_type": "markdown",
   "metadata": {},
   "source": [
    "## 回答"
   ]
  },
  {
   "cell_type": "markdown",
   "metadata": {},
   "source": [
    "### 1. timeit模块"
   ]
  },
  {
   "cell_type": "markdown",
   "metadata": {},
   "source": [
    "用timeit模块获得操作时间:"
   ]
  },
  {
   "cell_type": "code",
   "execution_count": 1,
   "metadata": {},
   "outputs": [
    {
     "name": "stdout",
     "output_type": "stream",
     "text": [
      "list of 10000 insert(0, 0) takes 0.000 seconds\n",
      "list of 10000 append(0) takes 0.000 seconds\n",
      "list of 20000 insert(0, 0) takes 0.000 seconds\n",
      "list of 20000 append(0) takes 0.000 seconds\n",
      "list of 30000 insert(0, 0) takes 0.000 seconds\n",
      "list of 30000 append(0) takes 0.000 seconds\n",
      "list of 40000 insert(0, 0) takes 0.001 seconds\n",
      "list of 40000 append(0) takes 0.000 seconds\n",
      "list of 50000 insert(0, 0) takes 0.001 seconds\n",
      "list of 50000 append(0) takes 0.000 seconds\n",
      "list of 60000 insert(0, 0) takes 0.001 seconds\n",
      "list of 60000 append(0) takes 0.000 seconds\n",
      "list of 70000 insert(0, 0) takes 0.001 seconds\n",
      "list of 70000 append(0) takes 0.000 seconds\n",
      "list of 80000 insert(0, 0) takes 0.001 seconds\n",
      "list of 80000 append(0) takes 0.000 seconds\n",
      "list of 90000 insert(0, 0) takes 0.001 seconds\n",
      "list of 90000 append(0) takes 0.000 seconds\n",
      "list of 100000 insert(0, 0) takes 0.003 seconds\n",
      "list of 100000 append(0) takes 0.000 seconds\n"
     ]
    }
   ],
   "source": [
    "from timeit import Timer\n",
    "\n",
    "for n in range(10000, 110000, 10000):           # 数据列表的规模N为1万起，步长1万，10个规模点\n",
    "    lst = list(range(n))                        # 生成长度为N的数据列表\n",
    "    timer = Timer(lambda: lst.insert(0, 0))     # insert(0, item) 操作，设item=0\n",
    "    print(f\"list of {n} insert(0, 0) takes {timer.timeit(number=100):.3f} seconds\")     # 每个规模点操作100次\n",
    "    timer = Timer(lambda: lst.append(0))        # append(item) 操作，设item=0\n",
    "    print(f\"list of {n} append(0) takes {timer.timeit(number=100):.3f} seconds\")        # 每个规模点操作100次"
   ]
  },
  {
   "cell_type": "markdown",
   "metadata": {},
   "source": [
    "对比结果可得:\n",
    "- insert(0, item) 时间复杂度为线性O(n)\n",
    "- append(0) 时间复杂度为常数O(1)"
   ]
  },
  {
   "cell_type": "markdown",
   "metadata": {},
   "source": [
    "### 2. big_o模块"
   ]
  },
  {
   "cell_type": "markdown",
   "metadata": {},
   "source": [
    "用big_o模块来拟合两种方法的复杂度:"
   ]
  },
  {
   "cell_type": "code",
   "execution_count": 2,
   "metadata": {},
   "outputs": [
    {
     "name": "stdout",
     "output_type": "stream",
     "text": [
      "list insert(0, 0) complexity is Linear: time = -4.3E-06 + 1.4E-08*n (sec)\n",
      "list append(0) complexity is Constant: time = 2.6E-05 (sec)\n"
     ]
    }
   ],
   "source": [
    "from big_o import big_o, datagen\n",
    "\n",
    "def run_big_o(func):\n",
    "    best, _ = big_o(\n",
    "        func,\n",
    "        lambda n: datagen.range_n(n),               # 长度为N的数据列表生成器\n",
    "        min_n=10000, max_n=100000, n_measures=10,   # 数据列表的规模N为1万起，步长1万，10个规模点\n",
    "        n_repeats=100,                              # 每个规模点操作100次\n",
    "    )\n",
    "    return best\n",
    "\n",
    "print(f\"list insert(0, 0) complexity is {run_big_o(lambda lst: lst.insert(0, 0))}\")     # insert(0, item) 操作，设item=0\n",
    "print(f\"list append(0) complexity is {run_big_o(lambda lst: lst.append(0))}\")           # append(item) 操作，设item=0"
   ]
  },
  {
   "cell_type": "markdown",
   "metadata": {},
   "source": [
    "big_o拟合的复杂度为：\n",
    "- insert(0, item) 为线性O(n)\n",
    "- append(0) 为常数O(1)"
   ]
  }
 ],
 "metadata": {
  "kernelspec": {
   "display_name": "base",
   "language": "python",
   "name": "python3"
  },
  "language_info": {
   "codemirror_mode": {
    "name": "ipython",
    "version": 3
   },
   "file_extension": ".py",
   "mimetype": "text/x-python",
   "name": "python",
   "nbconvert_exporter": "python",
   "pygments_lexer": "ipython3",
   "version": "3.11.5"
  }
 },
 "nbformat": 4,
 "nbformat_minor": 2
}
